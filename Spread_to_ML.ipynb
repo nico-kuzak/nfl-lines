{
 "cells": [
  {
   "cell_type": "markdown",
   "metadata": {},
   "source": [
    "# Converting Spreads to MoneyLines (MLs)\n",
    "\n",
    "### Expand [this reddit dataset](https://www.reddit.com/r/sportsbook/comments/3ep6q4/equation_to_convert_point_spread_to_oddsmoneyline/cthzcxd?utm_source=share&utm_medium=web2x) to have all the historical spreads. \n",
    "\n",
    "### Method:\n",
    "- Fit a polynomial of best fit through the points in the reddit dataset.\n",
    "- For the historical spreads that don't appear on the reddit sheet, map them to the polynomial.\n",
    "- Fix the MoneyLines that appear to be way off - i.e. -14.5 is less than -14\n",
    "- Save as 'spreads-to-ml-final.csv'\n",
    "\n",
    "### Output\n",
    "'spreads-to-ml-final.csv', a DataFrame of two columns - all historical spreads and their corresponding ML\n"
   ]
  },
  {
   "cell_type": "markdown",
   "metadata": {},
   "source": [
    "Import necessary libraries"
   ]
  },
  {
   "cell_type": "code",
   "execution_count": 1,
   "metadata": {},
   "outputs": [],
   "source": [
    "import pandas as pd\n",
    "import numpy as np\n",
    "import os\n",
    "import matplotlib.pyplot as plt\n",
    "%matplotlib inline"
   ]
  },
  {
   "cell_type": "markdown",
   "metadata": {},
   "source": [
    "Open and explore the reddit dataset. It has the average moneylines for each spread over the last 5 years."
   ]
  },
  {
   "cell_type": "code",
   "execution_count": 2,
   "metadata": {},
   "outputs": [],
   "source": [
    "df = pd.read_csv(\"extra-nfl/spread_to_ml.csv\")"
   ]
  },
  {
   "cell_type": "code",
   "execution_count": 3,
   "metadata": {},
   "outputs": [
    {
     "name": "stdout",
     "output_type": "stream",
     "text": [
      "(61, 6)\n"
     ]
    },
    {
     "data": {
      "text/html": [
       "<div>\n",
       "<style scoped>\n",
       "    .dataframe tbody tr th:only-of-type {\n",
       "        vertical-align: middle;\n",
       "    }\n",
       "\n",
       "    .dataframe tbody tr th {\n",
       "        vertical-align: top;\n",
       "    }\n",
       "\n",
       "    .dataframe thead th {\n",
       "        text-align: right;\n",
       "    }\n",
       "</style>\n",
       "<table border=\"1\" class=\"dataframe\">\n",
       "  <thead>\n",
       "    <tr style=\"text-align: right;\">\n",
       "      <th></th>\n",
       "      <th>game_count</th>\n",
       "      <th>spread</th>\n",
       "      <th>avg_moneyline</th>\n",
       "      <th>avg_moneyline.1</th>\n",
       "      <th>MAX(moneyline)</th>\n",
       "      <th>MIN(moneyline)</th>\n",
       "    </tr>\n",
       "  </thead>\n",
       "  <tbody>\n",
       "    <tr>\n",
       "      <th>0</th>\n",
       "      <td>1</td>\n",
       "      <td>-27.0</td>\n",
       "      <td>-6434</td>\n",
       "      <td>6434</td>\n",
       "      <td>-6434</td>\n",
       "      <td>-6434</td>\n",
       "    </tr>\n",
       "    <tr>\n",
       "      <th>1</th>\n",
       "      <td>1</td>\n",
       "      <td>-19.5</td>\n",
       "      <td>-4060</td>\n",
       "      <td>4060</td>\n",
       "      <td>-4060</td>\n",
       "      <td>-4060</td>\n",
       "    </tr>\n",
       "    <tr>\n",
       "      <th>2</th>\n",
       "      <td>4</td>\n",
       "      <td>-16.0</td>\n",
       "      <td>-1432</td>\n",
       "      <td>1432</td>\n",
       "      <td>-1334</td>\n",
       "      <td>-1522</td>\n",
       "    </tr>\n",
       "    <tr>\n",
       "      <th>3</th>\n",
       "      <td>1</td>\n",
       "      <td>-14.5</td>\n",
       "      <td>-813</td>\n",
       "      <td>813</td>\n",
       "      <td>-813</td>\n",
       "      <td>-813</td>\n",
       "    </tr>\n",
       "    <tr>\n",
       "      <th>4</th>\n",
       "      <td>4</td>\n",
       "      <td>-14.0</td>\n",
       "      <td>-1044</td>\n",
       "      <td>1044</td>\n",
       "      <td>-912</td>\n",
       "      <td>-1138</td>\n",
       "    </tr>\n",
       "  </tbody>\n",
       "</table>\n",
       "</div>"
      ],
      "text/plain": [
       "   game_count  spread  avg_moneyline  avg_moneyline.1  MAX(moneyline)  \\\n",
       "0           1   -27.0          -6434             6434           -6434   \n",
       "1           1   -19.5          -4060             4060           -4060   \n",
       "2           4   -16.0          -1432             1432           -1334   \n",
       "3           1   -14.5           -813              813            -813   \n",
       "4           4   -14.0          -1044             1044            -912   \n",
       "\n",
       "   MIN(moneyline)  \n",
       "0           -6434  \n",
       "1           -4060  \n",
       "2           -1522  \n",
       "3            -813  \n",
       "4           -1138  "
      ]
     },
     "execution_count": 3,
     "metadata": {},
     "output_type": "execute_result"
    }
   ],
   "source": [
    "print(df.shape)\n",
    "df.head()"
   ]
  },
  {
   "cell_type": "code",
   "execution_count": 4,
   "metadata": {},
   "outputs": [
    {
     "data": {
      "text/html": [
       "<div>\n",
       "<style scoped>\n",
       "    .dataframe tbody tr th:only-of-type {\n",
       "        vertical-align: middle;\n",
       "    }\n",
       "\n",
       "    .dataframe tbody tr th {\n",
       "        vertical-align: top;\n",
       "    }\n",
       "\n",
       "    .dataframe thead th {\n",
       "        text-align: right;\n",
       "    }\n",
       "</style>\n",
       "<table border=\"1\" class=\"dataframe\">\n",
       "  <thead>\n",
       "    <tr style=\"text-align: right;\">\n",
       "      <th></th>\n",
       "      <th>game_count</th>\n",
       "      <th>spread</th>\n",
       "      <th>avg_moneyline</th>\n",
       "      <th>avg_moneyline.1</th>\n",
       "      <th>MAX(moneyline)</th>\n",
       "      <th>MIN(moneyline)</th>\n",
       "    </tr>\n",
       "  </thead>\n",
       "  <tbody>\n",
       "    <tr>\n",
       "      <th>56</th>\n",
       "      <td>4</td>\n",
       "      <td>14.0</td>\n",
       "      <td>727</td>\n",
       "      <td>727</td>\n",
       "      <td>771</td>\n",
       "      <td>649</td>\n",
       "    </tr>\n",
       "    <tr>\n",
       "      <th>57</th>\n",
       "      <td>1</td>\n",
       "      <td>14.5</td>\n",
       "      <td>605</td>\n",
       "      <td>605</td>\n",
       "      <td>605</td>\n",
       "      <td>605</td>\n",
       "    </tr>\n",
       "    <tr>\n",
       "      <th>58</th>\n",
       "      <td>4</td>\n",
       "      <td>16.0</td>\n",
       "      <td>929</td>\n",
       "      <td>929</td>\n",
       "      <td>948</td>\n",
       "      <td>894</td>\n",
       "    </tr>\n",
       "    <tr>\n",
       "      <th>59</th>\n",
       "      <td>1</td>\n",
       "      <td>19.5</td>\n",
       "      <td>1500</td>\n",
       "      <td>1500</td>\n",
       "      <td>1500</td>\n",
       "      <td>1500</td>\n",
       "    </tr>\n",
       "    <tr>\n",
       "      <th>60</th>\n",
       "      <td>1</td>\n",
       "      <td>27.0</td>\n",
       "      <td>1500</td>\n",
       "      <td>1500</td>\n",
       "      <td>1500</td>\n",
       "      <td>1500</td>\n",
       "    </tr>\n",
       "  </tbody>\n",
       "</table>\n",
       "</div>"
      ],
      "text/plain": [
       "    game_count  spread  avg_moneyline  avg_moneyline.1  MAX(moneyline)  \\\n",
       "56           4    14.0            727              727             771   \n",
       "57           1    14.5            605              605             605   \n",
       "58           4    16.0            929              929             948   \n",
       "59           1    19.5           1500             1500            1500   \n",
       "60           1    27.0           1500             1500            1500   \n",
       "\n",
       "    MIN(moneyline)  \n",
       "56             649  \n",
       "57             605  \n",
       "58             894  \n",
       "59            1500  \n",
       "60            1500  "
      ]
     },
     "execution_count": 4,
     "metadata": {},
     "output_type": "execute_result"
    }
   ],
   "source": [
    "df.tail()"
   ]
  },
  {
   "cell_type": "markdown",
   "metadata": {},
   "source": [
    "Filter to the columns we're interested in"
   ]
  },
  {
   "cell_type": "code",
   "execution_count": 5,
   "metadata": {},
   "outputs": [],
   "source": [
    "df = df[['spread', 'avg_moneyline']]"
   ]
  },
  {
   "cell_type": "code",
   "execution_count": 6,
   "metadata": {},
   "outputs": [
    {
     "data": {
      "text/plain": [
       "<matplotlib.axes._subplots.AxesSubplot at 0x122d608d0>"
      ]
     },
     "execution_count": 6,
     "metadata": {},
     "output_type": "execute_result"
    },
    {
     "data": {
      "image/png": "[encoded data removed]",
      "text/plain": [
       "<Figure size 432x288 with 1 Axes>"
      ]
     },
     "metadata": {
      "needs_background": "light"
     },
     "output_type": "display_data"
    }
   ],
   "source": [
    "df.plot(kind='scatter', x='spread', y='avg_moneyline')"
   ]
  },
  {
   "cell_type": "markdown",
   "metadata": {},
   "source": [
    "Fit a polynomial of size 3 through the data, then visualize it"
   ]
  },
  {
   "cell_type": "code",
   "execution_count": 7,
   "metadata": {},
   "outputs": [
    {
     "name": "stdout",
     "output_type": "stream",
     "text": [
      "[  0.16931585  -3.06287724  31.87552001 167.83612448]\n"
     ]
    }
   ],
   "source": [
    "z = np.polyfit(df['spread'], df['avg_moneyline'], 3)\n",
    "print(z)"
   ]
  },
  {
   "cell_type": "code",
   "execution_count": 8,
   "metadata": {},
   "outputs": [
    {
     "name": "stdout",
     "output_type": "stream",
     "text": [
      "        3         2\n",
      "0.1693 x - 3.063 x + 31.88 x + 167.8\n"
     ]
    }
   ],
   "source": [
    "p = np.poly1d(z)\n",
    "print(p)"
   ]
  },
  {
   "cell_type": "code",
   "execution_count": 9,
   "metadata": {},
   "outputs": [
    {
     "name": "stdout",
     "output_type": "stream",
     "text": [
      "A spread of -6 has an ML of -170.25279897953888, while a spread of +6 has an ML of 285.3978868869914\n"
     ]
    }
   ],
   "source": [
    "print(\"A spread of -6 has an ML of {}, while a spread of +6 has an ML of {}\".format(p(-6), p(6)))"
   ]
  },
  {
   "cell_type": "markdown",
   "metadata": {},
   "source": [
    "It doesn't look to be too good for the low numbers, but that's fine - we mainly need it for the larger ones that aren't in the dataset."
   ]
  },
  {
   "cell_type": "code",
   "execution_count": 10,
   "metadata": {},
   "outputs": [
    {
     "name": "stdout",
     "output_type": "stream",
     "text": [
      "A spread of -15 has an ML of -1570.8850362748765, while a spread of +15 has an ML of 528.2625286291019\n"
     ]
    }
   ],
   "source": [
    "print(\"A spread of -15 has an ML of {}, while a spread of +15 has an ML of {}\".format(p(-15), p(15)))"
   ]
  },
  {
   "cell_type": "code",
   "execution_count": 11,
   "metadata": {},
   "outputs": [
    {
     "data": {
      "image/png": "[encoded data removed]",
      "text/plain": [
       "<Figure size 432x288 with 1 Axes>"
      ]
     },
     "metadata": {
      "needs_background": "light"
     },
     "output_type": "display_data"
    }
   ],
   "source": [
    "x = df['spread']\n",
    "y = df['avg_moneyline']\n",
    "xp = np.linspace(-27, 27, 109)\n",
    "_ = plt.plot(x, y, '.', xp, p(xp), '-')"
   ]
  },
  {
   "cell_type": "markdown",
   "metadata": {},
   "source": [
    "### Fill in missing spreads"
   ]
  },
  {
   "cell_type": "code",
   "execution_count": 12,
   "metadata": {},
   "outputs": [],
   "source": [
    "dir_nfl = './nfl-scores-and-betting-data/'"
   ]
  },
  {
   "cell_type": "code",
   "execution_count": 13,
   "metadata": {},
   "outputs": [],
   "source": [
    "scores = pd.read_csv(os.path.join(dir_nfl, 'spreadspoke_scores.csv'))"
   ]
  },
  {
   "cell_type": "code",
   "execution_count": 14,
   "metadata": {},
   "outputs": [
    {
     "data": {
      "text/plain": [
       "Index(['schedule_date', 'schedule_season', 'schedule_week', 'schedule_playoff',\n",
       "       'team_home', 'score_home', 'score_away', 'team_away',\n",
       "       'team_favorite_id', 'spread_favorite', 'over_under_line', 'stadium',\n",
       "       'stadium_neutral', 'weather_temperature', 'weather_wind_mph',\n",
       "       'weather_humidity', 'weather_detail'],\n",
       "      dtype='object')"
      ]
     },
     "execution_count": 14,
     "metadata": {},
     "output_type": "execute_result"
    }
   ],
   "source": [
    "scores.columns"
   ]
  },
  {
   "cell_type": "code",
   "execution_count": 15,
   "metadata": {},
   "outputs": [
    {
     "name": "stdout",
     "output_type": "stream",
     "text": [
      "[-14.  -13.5 -18.  -12.   -2.5  -6.   -1.   -6.5  -3.   -7.   -4.   -2.\n",
      " -15.   -7.5  -3.5  -5.    0.   -8.  -13.   -9.  -10.  -11.   -4.5  -8.5\n",
      "  -9.5 -10.5  -5.5  -1.5 -12.5 -14.5 -15.5 -17.  -11.5 -16.  -19.5 -17.5\n",
      " -20.  -19.  -16.5 -24.  -18.5 -24.5 -20.5 -22.5 -26.5 -21.5 -21. ]\n"
     ]
    }
   ],
   "source": [
    "scores_spreads = scores.spread_favorite.dropna().unique()\n",
    "print(scores_spreads)"
   ]
  },
  {
   "cell_type": "markdown",
   "metadata": {},
   "source": [
    "Find the spreads from scores df missing from the reddit dataset"
   ]
  },
  {
   "cell_type": "code",
   "execution_count": 20,
   "metadata": {},
   "outputs": [],
   "source": [
    "missing = [spread for spread in scores_spreads if spread not in df.spread.unique()]"
   ]
  },
  {
   "cell_type": "markdown",
   "metadata": {},
   "source": [
    "Since the scores data only has the favorite spread (i.e. the (-) values), we also want those same values for the underdogs - we want to determine if it's worth betting on them too."
   ]
  },
  {
   "cell_type": "code",
   "execution_count": 21,
   "metadata": {},
   "outputs": [],
   "source": [
    "pos_missing = [spread*-1 for spread in missing]\n",
    "missing.extend(pos_missing)\n",
    "missing = [spread for spread in missing if spread not in df.spread.unique()]"
   ]
  },
  {
   "cell_type": "code",
   "execution_count": 26,
   "metadata": {},
   "outputs": [],
   "source": [
    "missing_dict = {spread: p(spread) for spread in missing}\n",
    "missing_df = pd.DataFrame.from_dict(missing_dict, orient='index', columns=['avg_moneyline']).reset_index().rename(columns={'index':'spread'})"
   ]
  },
  {
   "cell_type": "code",
   "execution_count": 27,
   "metadata": {},
   "outputs": [
    {
     "name": "stdout",
     "output_type": "stream",
     "text": [
      "(34, 2)\n"
     ]
    },
    {
     "data": {
      "text/html": [
       "<div>\n",
       "<style scoped>\n",
       "    .dataframe tbody tr th:only-of-type {\n",
       "        vertical-align: middle;\n",
       "    }\n",
       "\n",
       "    .dataframe tbody tr th {\n",
       "        vertical-align: top;\n",
       "    }\n",
       "\n",
       "    .dataframe thead th {\n",
       "        text-align: right;\n",
       "    }\n",
       "</style>\n",
       "<table border=\"1\" class=\"dataframe\">\n",
       "  <thead>\n",
       "    <tr style=\"text-align: right;\">\n",
       "      <th></th>\n",
       "      <th>spread</th>\n",
       "      <th>avg_moneyline</th>\n",
       "    </tr>\n",
       "  </thead>\n",
       "  <tbody>\n",
       "    <tr>\n",
       "      <th>0</th>\n",
       "      <td>-18.0</td>\n",
       "      <td>-2385.745478</td>\n",
       "    </tr>\n",
       "    <tr>\n",
       "      <th>1</th>\n",
       "      <td>-12.0</td>\n",
       "      <td>-948.302221</td>\n",
       "    </tr>\n",
       "    <tr>\n",
       "      <th>2</th>\n",
       "      <td>-15.0</td>\n",
       "      <td>-1570.885036</td>\n",
       "    </tr>\n",
       "    <tr>\n",
       "      <th>3</th>\n",
       "      <td>-15.5</td>\n",
       "      <td>-1692.601740</td>\n",
       "    </tr>\n",
       "    <tr>\n",
       "      <th>4</th>\n",
       "      <td>-17.0</td>\n",
       "      <td>-2091.067992</td>\n",
       "    </tr>\n",
       "  </tbody>\n",
       "</table>\n",
       "</div>"
      ],
      "text/plain": [
       "   spread  avg_moneyline\n",
       "0   -18.0   -2385.745478\n",
       "1   -12.0    -948.302221\n",
       "2   -15.0   -1570.885036\n",
       "3   -15.5   -1692.601740\n",
       "4   -17.0   -2091.067992"
      ]
     },
     "execution_count": 27,
     "metadata": {},
     "output_type": "execute_result"
    }
   ],
   "source": [
    "print(missing_df.shape)\n",
    "missing_df.head()"
   ]
  },
  {
   "cell_type": "code",
   "execution_count": 28,
   "metadata": {},
   "outputs": [],
   "source": [
    "df = df.append(missing_df, ignore_index=True).sort_values(by='spread').reset_index().drop(columns=['index'])"
   ]
  },
  {
   "cell_type": "code",
   "execution_count": 29,
   "metadata": {},
   "outputs": [
    {
     "data": {
      "text/html": [
       "<div>\n",
       "<style scoped>\n",
       "    .dataframe tbody tr th:only-of-type {\n",
       "        vertical-align: middle;\n",
       "    }\n",
       "\n",
       "    .dataframe tbody tr th {\n",
       "        vertical-align: top;\n",
       "    }\n",
       "\n",
       "    .dataframe thead th {\n",
       "        text-align: right;\n",
       "    }\n",
       "</style>\n",
       "<table border=\"1\" class=\"dataframe\">\n",
       "  <thead>\n",
       "    <tr style=\"text-align: right;\">\n",
       "      <th></th>\n",
       "      <th>spread</th>\n",
       "      <th>avg_moneyline</th>\n",
       "    </tr>\n",
       "  </thead>\n",
       "  <tbody>\n",
       "    <tr>\n",
       "      <th>0</th>\n",
       "      <td>-27.0</td>\n",
       "      <td>-6434.000000</td>\n",
       "    </tr>\n",
       "    <tr>\n",
       "      <th>1</th>\n",
       "      <td>-26.5</td>\n",
       "      <td>-5978.675107</td>\n",
       "    </tr>\n",
       "    <tr>\n",
       "      <th>2</th>\n",
       "      <td>-24.5</td>\n",
       "      <td>-4941.586182</td>\n",
       "    </tr>\n",
       "    <tr>\n",
       "      <th>3</th>\n",
       "      <td>-24.0</td>\n",
       "      <td>-4702.015908</td>\n",
       "    </tr>\n",
       "    <tr>\n",
       "      <th>4</th>\n",
       "      <td>-22.5</td>\n",
       "      <td>-4028.557992</td>\n",
       "    </tr>\n",
       "  </tbody>\n",
       "</table>\n",
       "</div>"
      ],
      "text/plain": [
       "   spread  avg_moneyline\n",
       "0   -27.0   -6434.000000\n",
       "1   -26.5   -5978.675107\n",
       "2   -24.5   -4941.586182\n",
       "3   -24.0   -4702.015908\n",
       "4   -22.5   -4028.557992"
      ]
     },
     "execution_count": 29,
     "metadata": {},
     "output_type": "execute_result"
    }
   ],
   "source": [
    "df.head()"
   ]
  },
  {
   "cell_type": "markdown",
   "metadata": {},
   "source": [
    "Plot the data"
   ]
  },
  {
   "cell_type": "code",
   "execution_count": 30,
   "metadata": {},
   "outputs": [
    {
     "data": {
      "image/png": "[encoded data removed]",
      "text/plain": [
       "<Figure size 432x288 with 1 Axes>"
      ]
     },
     "metadata": {
      "needs_background": "light"
     },
     "output_type": "display_data"
    }
   ],
   "source": [
    "x = df['spread']\n",
    "y = df['avg_moneyline']\n",
    "_ = plt.plot(x, y, '.')"
   ]
  },
  {
   "cell_type": "markdown",
   "metadata": {},
   "source": [
    "Let's adjust those that are probably slightly off - make them = to the polynomial, or average the previous and the next one."
   ]
  },
  {
   "cell_type": "code",
   "execution_count": 31,
   "metadata": {},
   "outputs": [
    {
     "name": "stdout",
     "output_type": "stream",
     "text": [
      "Spread -19.5: -4060.0 -> -2873.8514231502945\n",
      "Spread -15.5: -1692.6017401269312 -> -1501.4425181374381\n",
      "Spread -15.0: -1570.8850362748765 -> -1157.221259068719\n",
      "Spread -14.0: -1044.0 -> -794.5\n",
      "Spread -13.0: -780.0 -> -723.0\n",
      "Spread -12.0: -948.3022206966181 -> -643.5\n",
      "Spread -8.0: -408.0 -> -369.88189222988467\n",
      "Spread 12.0: 401.865825430798 -> 493.0\n",
      "Spread 13.5: 571.0 -> 651.0\n",
      "Spread 14.5: 605.0 -> 627.6312643145509\n",
      "Spread 15.0: 528.2625286291019 -> 592.0963705349261\n",
      "Spread 15.5: 556.5614767553013 -> 760.548185267463\n",
      "Spread 16.5: 620.5018243378246 -> 792.6985987820265\n",
      "Spread 17.0: 656.3971975640528 -> 743.8886425211106\n",
      "Spread 17.5: 695.0786862601947 -> 740.2809599161565\n",
      "Spread 18.0: 736.6732773112025 -> 760.7944587590923\n",
      "Spread 20.0: 934.7224027629329 -> 1246.3936544312755\n",
      "Spread 20.5: 992.787308862551 -> 1150.4604465290113\n",
      "Spread 21.0: 1054.5272386267468 -> 1135.2648127347422\n",
      "Spread 21.5: 1120.0691789404732 -> 1199.1659257455337\n"
     ]
    }
   ],
   "source": [
    "for i in range(df.shape[0]):\n",
    "    if i == df.shape[0] - 1:\n",
    "        break\n",
    "    if i == 0:\n",
    "        continue\n",
    "    ml = df['avg_moneyline'].iloc[i]\n",
    "    prev_ml = df['avg_moneyline'].iloc[i-1]\n",
    "    next_ml = df['avg_moneyline'].iloc[i+1]\n",
    "    if ml < prev_ml:\n",
    "        df.avg_moneyline.iloc[i] = max(ml, p(df.spread.iloc[i]), (prev_ml+next_ml)/2)\n",
    "        print(\"Spread {}: {} -> {}\".format(df.spread.iloc[i], ml, df.avg_moneyline.iloc[i]))"
   ]
  },
  {
   "cell_type": "code",
   "execution_count": 33,
   "metadata": {},
   "outputs": [
    {
     "data": {
      "text/plain": [
       "[<matplotlib.lines.Line2D at 0x123f0c7d0>]"
      ]
     },
     "execution_count": 33,
     "metadata": {},
     "output_type": "execute_result"
    },
    {
     "data": {
      "image/png": "[encoded data removed]",
      "text/plain": [
       "<Figure size 432x288 with 1 Axes>"
      ]
     },
     "metadata": {
      "needs_background": "light"
     },
     "output_type": "display_data"
    }
   ],
   "source": [
    "x = df['spread']\n",
    "y = df['avg_moneyline']\n",
    "plt.plot(x, y, '.')"
   ]
  },
  {
   "cell_type": "code",
   "execution_count": 34,
   "metadata": {},
   "outputs": [],
   "source": [
    "df.iloc[47].avg_moneyline = -110."
   ]
  },
  {
   "cell_type": "code",
   "execution_count": 35,
   "metadata": {},
   "outputs": [
    {
     "data": {
      "text/plain": [
       "spread             0.0\n",
       "avg_moneyline   -110.0\n",
       "Name: 47, dtype: float64"
      ]
     },
     "execution_count": 35,
     "metadata": {},
     "output_type": "execute_result"
    }
   ],
   "source": [
    "df.iloc[47]"
   ]
  },
  {
   "cell_type": "code",
   "execution_count": 36,
   "metadata": {},
   "outputs": [],
   "source": [
    "df.to_csv('extra-nfl/spread_to_ml_final.csv')"
   ]
  },
  {
   "cell_type": "code",
   "execution_count": null,
   "metadata": {},
   "outputs": [],
   "source": []
  }
 ],
 "metadata": {
  "kernelspec": {
   "display_name": "Python 3",
   "language": "python",
   "name": "python3"
  },
  "language_info": {
   "codemirror_mode": {
    "name": "ipython",
    "version": 3
   },
   "file_extension": ".py",
   "mimetype": "text/x-python",
   "name": "python",
   "nbconvert_exporter": "python",
   "pygments_lexer": "ipython3",
   "version": "3.7.4"
  }
 },
 "nbformat": 4,
 "nbformat_minor": 4
}
